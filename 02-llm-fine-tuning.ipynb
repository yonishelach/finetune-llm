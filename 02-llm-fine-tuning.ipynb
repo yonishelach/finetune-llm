{
 "cells": [
  {
   "cell_type": "markdown",
   "id": "a57360a3",
   "metadata": {},
   "source": [
    "# Train, Test, and Redeploy Our LLM\n",
    "\n",
    "This notebook demonstrates how to train a Hugging Face LLM, fine-tunning it to a specific data and build an automated ML pipeline for data collection and preparation, training, evaluation, testing and deployment of an application pipeline with the new LLM.\n",
    "\n",
    "The [**previous notebook**](./01-serving.ipynb) used the standard `GPT2-Medium` from Hugging Face models which generated ppoorly when asking itt about MLOps, butt it is all about tto change.\n",
    "\n",
    "The tutorial has two main steps:\n",
    "1. [Define MLRun project and set all mlrun function](#project-setup)\n",
    "2. [Run full LLM life-cycle workflow](#full-workflow)\n",
    "3. [Try the new model with Gradio](#use-gradio)"
   ]
  },
  {
   "cell_type": "markdown",
   "id": "039e3fb3",
   "metadata": {},
   "source": [
    "___\n",
    "<a id=\"project-setup\"></a>\n",
    "## 1. Define MLRun project and set all mlrun function\n",
    "\n",
    "Create or load an MLRun project that holds all your functions and configuration ([**project_setup.py**](./src/project_setup.py))\n",
    "\n",
    "The project contains the following files:\n",
    "* [data_collection.py](./src/data_collection.py) - Collect all text from given list of urls.\n",
    "* [data_preprocess.py](./src/data_preprocess.py) - Preprocess the data and save it as a `pd.DataFrame` dataset arttifact.\n",
    "* [training.py]() - Train and evaluate using HuggingFace `Trainer` API and DeepSpeed empowered by **MLRun's auto-logging** (`apply_mlrun` function).\n",
    "* [serving.py](./src/serving.py) - Multiple model servers and serving steps to build the **Serving Graph** from notebook 01.\n",
    "* [testing.py](./src/testing.py) - Stress testing the serving graph.\n",
    "\n",
    "And a training pipeline (in [**training_workflow.py**](./src/training_workflow.py))\n",
    "\n",
    "The training and evaluation function we will use is [hugging_face_classifier_trainer](https://www.mlrun.org/hub/). It is taken from [**MLRun's Functions Hub**](https://docs.mlrun.org/en/stable/runtimes/load-from-hub.html) - a collection of ready to be imported functions for variety of use cases. We import the function during the project setup."
   ]
  },
  {
   "cell_type": "code",
   "execution_count": 3,
   "id": "b26da2d1",
   "metadata": {},
   "outputs": [
    {
     "name": "stdout",
     "output_type": "stream",
     "text": [
      "> 2023-05-09 20:06:18,221 [info] loaded project mlopspedia from MLRun DB\n"
     ]
    }
   ],
   "source": [
    "import mlrun\n",
    "from src.project_setup import create_and_set_project\n",
    "\n",
    "project = create_and_set_project(\n",
    "    git_source=\"git://github.com/yonishelach/learn-docs.git#main\",\n",
    "    name=\"mlopspedia\",\n",
    "    default_image=\"yonishelach/mlrun-hf\",\n",
    "    user_project=True,\n",
    ")"
   ]
  },
  {
   "cell_type": "markdown",
   "id": "8743c879",
   "metadata": {},
   "source": [
    "___\n",
    "<a id=\"full-workflow\"></a>\n",
    "## 2. Run full LLM life-cycle workflow\n",
    "\n",
    "Run the training pipeline (in [training_workflow.py](./src/training_workflow.py)) by using `project.run(workflow name, ...)`:\n",
    "\n",
    "    collect_html_to_text_files -> prepare_dataset -> train -> (serving graph) -> model_server_tester\n",
    "                                                           -> evaluate\n",
    "                                                          \n",
    "* `collect_html_to_text_files` (Data Collection) - Collect all text from given html urls into `.txt` files.\n",
    "* `prepare_dataset` (Preprocess Data) - Join the `.txt` files, reformatting the text into our \"Subject - Content\" prompt template. We made every header (`<h>` tags) a *subject* of a prompt, and the text (`<p>` tags) under it as its *content*.\n",
    "* `train` - Fine-tune the LLM on the data. We'll run the training on **OpenMPI** and we will use **DeepSpeed** for distributing the model and data between multiple workers, splitting the work between nodes and GPUs.\n",
    "* `evaluate` - Evaluate our model using the *Perplexity* metric.\n",
    "* Deployment - Deploy the same serving graph we saw on notebook 01: `-> preprocess -> llm -> postprocess -> toxicity classifier ->`\n",
    "* `model_server_tester` (Stress Test) - Send data to our serving endpoint and get a performance report."
   ]
  },
  {
   "cell_type": "code",
   "execution_count": 2,
   "id": "c0a8f8fd",
   "metadata": {
    "tags": []
   },
   "outputs": [
    {
     "data": {
      "text/html": [
       "<div>Pipeline running (id=eddc078e-d1b6-474c-8464-33de2dc84ec7), <a href=\"https://dashboard.default-tenant.app.llm.iguazio-cd1.com/mlprojects/mlopspedia-admin/jobs/monitor-workflows/workflow/eddc078e-d1b6-474c-8464-33de2dc84ec7\" target=\"_blank\"><b>click here</b></a> to view the details in MLRun UI</div>"
      ],
      "text/plain": [
       "<IPython.core.display.HTML object>"
      ]
     },
     "metadata": {},
     "output_type": "display_data"
    },
    {
     "data": {
      "image/svg+xml": [
       "<?xml version=\"1.0\" encoding=\"UTF-8\" standalone=\"no\"?>\n",
       "<!DOCTYPE svg PUBLIC \"-//W3C//DTD SVG 1.1//EN\"\n",
       " \"http://www.w3.org/Graphics/SVG/1.1/DTD/svg11.dtd\">\n",
       "<!-- Generated by graphviz version 2.43.0 (0)\n",
       " -->\n",
       "<!-- Title: kfp Pages: 1 -->\n",
       "<svg width=\"393pt\" height=\"332pt\"\n",
       " viewBox=\"0.00 0.00 392.77 332.00\" xmlns=\"http://www.w3.org/2000/svg\" xmlns:xlink=\"http://www.w3.org/1999/xlink\">\n",
       "<g id=\"graph0\" class=\"graph\" transform=\"scale(1 1) rotate(0) translate(4 328)\">\n",
       "<title>kfp</title>\n",
       "<polygon fill=\"white\" stroke=\"transparent\" points=\"-4,4 -4,-328 388.77,-328 388.77,4 -4,4\"/>\n",
       "<!-- mlops&#45;bot&#45;master&#45;pipeline&#45;hd5ht&#45;1010086557 -->\n",
       "<g id=\"node1\" class=\"node\">\n",
       "<title>mlops&#45;bot&#45;master&#45;pipeline&#45;hd5ht&#45;1010086557</title>\n",
       "<polygon fill=\"green\" stroke=\"black\" points=\"241.38,-108 37.38,-108 33.38,-104 33.38,-72 237.38,-72 241.38,-76 241.38,-108\"/>\n",
       "<polyline fill=\"none\" stroke=\"black\" points=\"237.38,-104 33.38,-104 \"/>\n",
       "<polyline fill=\"none\" stroke=\"black\" points=\"237.38,-104 237.38,-72 \"/>\n",
       "<polyline fill=\"none\" stroke=\"black\" points=\"237.38,-104 241.38,-108 \"/>\n",
       "<text text-anchor=\"middle\" x=\"137.38\" y=\"-86.3\" font-family=\"Times,serif\" font-size=\"14.00\">deploy&#45;serving&#45;mlopspedia</text>\n",
       "</g>\n",
       "<!-- mlops&#45;bot&#45;master&#45;pipeline&#45;hd5ht&#45;1962967446 -->\n",
       "<g id=\"node2\" class=\"node\">\n",
       "<title>mlops&#45;bot&#45;master&#45;pipeline&#45;hd5ht&#45;1962967446</title>\n",
       "<ellipse fill=\"green\" stroke=\"black\" cx=\"71.38\" cy=\"-18\" rx=\"43.59\" ry=\"18\"/>\n",
       "<text text-anchor=\"middle\" x=\"71.38\" y=\"-14.3\" font-family=\"Times,serif\" font-size=\"14.00\">testing</text>\n",
       "</g>\n",
       "<!-- mlops&#45;bot&#45;master&#45;pipeline&#45;hd5ht&#45;1010086557&#45;&gt;mlops&#45;bot&#45;master&#45;pipeline&#45;hd5ht&#45;1962967446 -->\n",
       "<g id=\"edge1\" class=\"edge\">\n",
       "<title>mlops&#45;bot&#45;master&#45;pipeline&#45;hd5ht&#45;1010086557&#45;&gt;mlops&#45;bot&#45;master&#45;pipeline&#45;hd5ht&#45;1962967446</title>\n",
       "<path fill=\"none\" stroke=\"black\" d=\"M121.07,-71.7C112.75,-62.88 102.52,-52.03 93.51,-42.47\"/>\n",
       "<polygon fill=\"black\" stroke=\"black\" points=\"96.01,-40.02 86.6,-35.14 90.92,-44.82 96.01,-40.02\"/>\n",
       "</g>\n",
       "<!-- mlops&#45;bot&#45;master&#45;pipeline&#45;hd5ht&#45;1943351592 -->\n",
       "<g id=\"node3\" class=\"node\">\n",
       "<title>mlops&#45;bot&#45;master&#45;pipeline&#45;hd5ht&#45;1943351592</title>\n",
       "<ellipse fill=\"green\" stroke=\"black\" cx=\"192.38\" cy=\"-162\" rx=\"33.29\" ry=\"18\"/>\n",
       "<text text-anchor=\"middle\" x=\"192.38\" y=\"-158.3\" font-family=\"Times,serif\" font-size=\"14.00\">train</text>\n",
       "</g>\n",
       "<!-- mlops&#45;bot&#45;master&#45;pipeline&#45;hd5ht&#45;1943351592&#45;&gt;mlops&#45;bot&#45;master&#45;pipeline&#45;hd5ht&#45;1010086557 -->\n",
       "<g id=\"edge3\" class=\"edge\">\n",
       "<title>mlops&#45;bot&#45;master&#45;pipeline&#45;hd5ht&#45;1943351592&#45;&gt;mlops&#45;bot&#45;master&#45;pipeline&#45;hd5ht&#45;1010086557</title>\n",
       "<path fill=\"none\" stroke=\"black\" d=\"M179.9,-145.12C173.23,-136.63 164.87,-125.98 157.32,-116.38\"/>\n",
       "<polygon fill=\"black\" stroke=\"black\" points=\"159.9,-113.99 150.97,-108.29 154.4,-118.32 159.9,-113.99\"/>\n",
       "</g>\n",
       "<!-- mlops&#45;bot&#45;master&#45;pipeline&#45;hd5ht&#45;2065707417 -->\n",
       "<g id=\"node4\" class=\"node\">\n",
       "<title>mlops&#45;bot&#45;master&#45;pipeline&#45;hd5ht&#45;2065707417</title>\n",
       "<ellipse fill=\"green\" stroke=\"black\" cx=\"309.38\" cy=\"-90\" rx=\"50.09\" ry=\"18\"/>\n",
       "<text text-anchor=\"middle\" x=\"309.38\" y=\"-86.3\" font-family=\"Times,serif\" font-size=\"14.00\">evaluate</text>\n",
       "</g>\n",
       "<!-- mlops&#45;bot&#45;master&#45;pipeline&#45;hd5ht&#45;1943351592&#45;&gt;mlops&#45;bot&#45;master&#45;pipeline&#45;hd5ht&#45;2065707417 -->\n",
       "<g id=\"edge2\" class=\"edge\">\n",
       "<title>mlops&#45;bot&#45;master&#45;pipeline&#45;hd5ht&#45;1943351592&#45;&gt;mlops&#45;bot&#45;master&#45;pipeline&#45;hd5ht&#45;2065707417</title>\n",
       "<path fill=\"none\" stroke=\"black\" d=\"M213.84,-148.16C231.23,-137.76 256.05,-122.91 276.02,-110.96\"/>\n",
       "<polygon fill=\"black\" stroke=\"black\" points=\"278.04,-113.83 284.82,-105.7 274.44,-107.83 278.04,-113.83\"/>\n",
       "</g>\n",
       "<!-- mlops&#45;bot&#45;master&#45;pipeline&#45;hd5ht&#45;3035183904 -->\n",
       "<g id=\"node5\" class=\"node\">\n",
       "<title>mlops&#45;bot&#45;master&#45;pipeline&#45;hd5ht&#45;3035183904</title>\n",
       "<ellipse fill=\"green\" stroke=\"black\" cx=\"192.38\" cy=\"-234\" rx=\"157.07\" ry=\"18\"/>\n",
       "<text text-anchor=\"middle\" x=\"192.38\" y=\"-230.3\" font-family=\"Times,serif\" font-size=\"14.00\">data&#45;preparing&#45;prepare&#45;dataset</text>\n",
       "</g>\n",
       "<!-- mlops&#45;bot&#45;master&#45;pipeline&#45;hd5ht&#45;3035183904&#45;&gt;mlops&#45;bot&#45;master&#45;pipeline&#45;hd5ht&#45;1962967446 -->\n",
       "<g id=\"edge6\" class=\"edge\">\n",
       "<title>mlops&#45;bot&#45;master&#45;pipeline&#45;hd5ht&#45;3035183904&#45;&gt;mlops&#45;bot&#45;master&#45;pipeline&#45;hd5ht&#45;1962967446</title>\n",
       "<path fill=\"none\" stroke=\"black\" d=\"M152.51,-216.46C111.82,-197.15 50.98,-160.95 24.38,-108 17.2,-93.7 18.71,-86.96 24.38,-72 28.7,-60.62 36.71,-50.11 44.91,-41.51\"/>\n",
       "<polygon fill=\"black\" stroke=\"black\" points=\"47.4,-43.97 52.07,-34.46 42.49,-38.98 47.4,-43.97\"/>\n",
       "</g>\n",
       "<!-- mlops&#45;bot&#45;master&#45;pipeline&#45;hd5ht&#45;3035183904&#45;&gt;mlops&#45;bot&#45;master&#45;pipeline&#45;hd5ht&#45;1943351592 -->\n",
       "<g id=\"edge4\" class=\"edge\">\n",
       "<title>mlops&#45;bot&#45;master&#45;pipeline&#45;hd5ht&#45;3035183904&#45;&gt;mlops&#45;bot&#45;master&#45;pipeline&#45;hd5ht&#45;1943351592</title>\n",
       "<path fill=\"none\" stroke=\"black\" d=\"M192.38,-215.7C192.38,-207.98 192.38,-198.71 192.38,-190.11\"/>\n",
       "<polygon fill=\"black\" stroke=\"black\" points=\"195.88,-190.1 192.38,-180.1 188.88,-190.1 195.88,-190.1\"/>\n",
       "</g>\n",
       "<!-- mlops&#45;bot&#45;master&#45;pipeline&#45;hd5ht&#45;3035183904&#45;&gt;mlops&#45;bot&#45;master&#45;pipeline&#45;hd5ht&#45;2065707417 -->\n",
       "<g id=\"edge5\" class=\"edge\">\n",
       "<title>mlops&#45;bot&#45;master&#45;pipeline&#45;hd5ht&#45;3035183904&#45;&gt;mlops&#45;bot&#45;master&#45;pipeline&#45;hd5ht&#45;2065707417</title>\n",
       "<path fill=\"none\" stroke=\"black\" d=\"M206.5,-215.87C227.07,-190.9 265.43,-144.35 289.05,-115.68\"/>\n",
       "<polygon fill=\"black\" stroke=\"black\" points=\"291.93,-117.69 295.58,-107.75 286.52,-113.24 291.93,-117.69\"/>\n",
       "</g>\n",
       "<!-- mlops&#45;bot&#45;master&#45;pipeline&#45;hd5ht&#45;810830322 -->\n",
       "<g id=\"node6\" class=\"node\">\n",
       "<title>mlops&#45;bot&#45;master&#45;pipeline&#45;hd5ht&#45;810830322</title>\n",
       "<ellipse fill=\"green\" stroke=\"black\" cx=\"192.38\" cy=\"-306\" rx=\"192.27\" ry=\"18\"/>\n",
       "<text text-anchor=\"middle\" x=\"192.38\" y=\"-302.3\" font-family=\"Times,serif\" font-size=\"14.00\">data&#45;collecting&#45;collect&#45;html&#45;to&#45;text&#45;files</text>\n",
       "</g>\n",
       "<!-- mlops&#45;bot&#45;master&#45;pipeline&#45;hd5ht&#45;810830322&#45;&gt;mlops&#45;bot&#45;master&#45;pipeline&#45;hd5ht&#45;3035183904 -->\n",
       "<g id=\"edge7\" class=\"edge\">\n",
       "<title>mlops&#45;bot&#45;master&#45;pipeline&#45;hd5ht&#45;810830322&#45;&gt;mlops&#45;bot&#45;master&#45;pipeline&#45;hd5ht&#45;3035183904</title>\n",
       "<path fill=\"none\" stroke=\"black\" d=\"M192.38,-287.7C192.38,-279.98 192.38,-270.71 192.38,-262.11\"/>\n",
       "<polygon fill=\"black\" stroke=\"black\" points=\"195.88,-262.1 192.38,-252.1 188.88,-262.1 195.88,-262.1\"/>\n",
       "</g>\n",
       "</g>\n",
       "</svg>\n"
      ],
      "text/plain": [
       "<graphviz.graphs.Digraph at 0x7f3533520ac0>"
      ]
     },
     "metadata": {},
     "output_type": "display_data"
    },
    {
     "data": {
      "text/html": [
       "<h2>Run Results</h2><h3>[info] Workflow eddc078e-d1b6-474c-8464-33de2dc84ec7 finished, state=Succeeded</h3><br>click the hyper links below to see detailed results<br><table border=\"1\" class=\"dataframe\">\n",
       "  <thead>\n",
       "    <tr style=\"text-align: right;\">\n",
       "      <th>uid</th>\n",
       "      <th>start</th>\n",
       "      <th>state</th>\n",
       "      <th>name</th>\n",
       "      <th>parameters</th>\n",
       "      <th>results</th>\n",
       "    </tr>\n",
       "  </thead>\n",
       "  <tbody>\n",
       "    <tr>\n",
       "      <td><div title=\"670477d7814c4a249c656dec8e7726ec\"><a href=\"https://dashboard.default-tenant.app.llm.iguazio-cd1.com/mlprojects/mlopspedia-admin/jobs/monitor/670477d7814c4a249c656dec8e7726ec/overview\" target=\"_blank\" >...8e7726ec</a></div></td>\n",
       "      <td>May 09 19:49:09</td>\n",
       "      <td>completed</td>\n",
       "      <td>testing</td>\n",
       "      <td><div class=\"dictlist\">endpoint=http://mlopspedia-admin-serving-mlopspedia-mlopspedia-admin.default-tenant.app.llm.iguazio-cd1.com/</div></td>\n",
       "      <td><div class=\"dictlist\">count=5</div><div class=\"dictlist\">error_count=0</div><div class=\"dictlist\">avg_latency=18</div><div class=\"dictlist\">min_latency=8</div><div class=\"dictlist\">max_latency=29</div></td>\n",
       "    </tr>\n",
       "    <tr>\n",
       "      <td><div title=\"b5c311ddfdb7480d94124d2195209624\"><a href=\"https://dashboard.default-tenant.app.llm.iguazio-cd1.com/mlprojects/mlopspedia-admin/jobs/monitor/b5c311ddfdb7480d94124d2195209624/overview\" target=\"_blank\" >...95209624</a></div></td>\n",
       "      <td>May 09 19:44:27</td>\n",
       "      <td>completed</td>\n",
       "      <td>evaluate</td>\n",
       "      <td><div class=\"dictlist\">model_path=store://artifacts/mlopspedia-admin/gpt2-medium-mlrun:eddc078e-d1b6-474c-8464-33de2dc84ec7</div></td>\n",
       "      <td><div class=\"dictlist\">perplexity=5.092374324798584</div></td>\n",
       "    </tr>\n",
       "    <tr>\n",
       "      <td><div title=\"163560cc39e141ecb8a94950c1e0b455\"><a href=\"https://dashboard.default-tenant.app.llm.iguazio-cd1.com/mlprojects/mlopspedia-admin/jobs/monitor/163560cc39e141ecb8a94950c1e0b455/overview\" target=\"_blank\" >...c1e0b455</a></div></td>\n",
       "      <td>May 09 19:26:38</td>\n",
       "      <td>completed</td>\n",
       "      <td>train</td>\n",
       "      <td><div class=\"dictlist\">model_name=gpt2-medium-mlrun</div><div class=\"dictlist\">pretrained_tokenizer=gpt2-medium</div><div class=\"dictlist\">pretrained_model=gpt2-medium</div><div class=\"dictlist\">model_class=transformers.GPT2LMHeadModel</div><div class=\"dictlist\">tokenizer_class=transformers.GPT2Tokenizer</div><div class=\"dictlist\">TRAIN_num_train_epochs=15</div><div class=\"dictlist\">TRAIN_fp16=True</div><div class=\"dictlist\">TRAIN_bf16=False</div><div class=\"dictlist\">TRAIN_per_device_train_batch_size=4</div><div class=\"dictlist\">TRAIN_logging_strategy=epoch</div><div class=\"dictlist\">use_deepspeed=True</div></td>\n",
       "      <td><div class=\"dictlist\">loss=1.6697</div><div class=\"dictlist\">learning_rate=5e-05</div><div class=\"dictlist\">train_runtime=600.2626</div><div class=\"dictlist\">train_samples_per_second=14.369</div><div class=\"dictlist\">train_steps_per_second=0.225</div><div class=\"dictlist\">total_flos=8471017684992.0</div></td>\n",
       "    </tr>\n",
       "    <tr>\n",
       "      <td><div title=\"23d369a4e2554e6aa0ec045481e35d81\"><a href=\"https://dashboard.default-tenant.app.llm.iguazio-cd1.com/mlprojects/mlopspedia-admin/jobs/monitor/23d369a4e2554e6aa0ec045481e35d81/overview\" target=\"_blank\" >...81e35d81</a></div></td>\n",
       "      <td>May 09 19:14:30</td>\n",
       "      <td>completed</td>\n",
       "      <td>data-preparing-prepare-dataset</td>\n",
       "      <td></td>\n",
       "      <td></td>\n",
       "    </tr>\n",
       "    <tr>\n",
       "      <td><div title=\"9b8f3179b46a4815aa878367b27450fa\"><a href=\"https://dashboard.default-tenant.app.llm.iguazio-cd1.com/mlprojects/mlopspedia-admin/jobs/monitor/9b8f3179b46a4815aa878367b27450fa/overview\" target=\"_blank\" >...b27450fa</a></div></td>\n",
       "      <td>May 09 19:13:50</td>\n",
       "      <td>completed</td>\n",
       "      <td>data-collecting-collect-html-to-text-files</td>\n",
       "      <td><div class=\"dictlist\">urls=https://www.iguazio.com/blog/</div></td>\n",
       "      <td></td>\n",
       "    </tr>\n",
       "  </tbody>\n",
       "</table>"
      ],
      "text/plain": [
       "<IPython.core.display.HTML object>"
      ]
     },
     "metadata": {},
     "output_type": "display_data"
    }
   ],
   "source": [
    "workflow_run = project.run(\n",
    "    name=\"training_workflow\",\n",
    "    arguments={\n",
    "        \"html_links\": 'https://www.iguazio.com/blog/',\n",
    "        \"model_name\": \"gpt2-medium-mlrun\",\n",
    "        \"pretrained_tokenizer\": \"gpt2-medium\",\n",
    "        \"pretrained_model\": \"gpt2-medium\",\n",
    "        \"model_class\": \"transformers.GPT2LMHeadModel\",\n",
    "        \"tokenizer_class\": \"transformers.GPT2Tokenizer\",\n",
    "        \"epochs\": 15,\n",
    "        \"use_deepspeed\": True,\n",
    "    },\n",
    "    watch=True,\n",
    "    dirty=True\n",
    ")"
   ]
  },
  {
   "cell_type": "markdown",
   "id": "2f4c1f92",
   "metadata": {},
   "source": [
    "Here we can see how the workflow looks on our UI & Also the result of the trainer and the server_tester"
   ]
  },
  {
   "cell_type": "markdown",
   "id": "9e633bf5",
   "metadata": {},
   "source": [
    "<img src=\"./images/workflow.png\" alt=\"workflow\" width=\"1200\"/>"
   ]
  },
  {
   "cell_type": "markdown",
   "id": "513acacf",
   "metadata": {},
   "source": [
    "<img src=\"./images/latancy.png\" alt=\"latancy\" width=\"1200\"/>"
   ]
  },
  {
   "cell_type": "markdown",
   "id": "76f13288",
   "metadata": {},
   "source": [
    "___\n",
    "<a id=\"use-gradio\"></a>\n",
    "## Try the new model with Gradio\n",
    "\n",
    "Once the pipeline completes, you can try the model using the function `invoke()` method or Gradio. You can get the new function object using the project `get_function()` method. "
   ]
  },
  {
   "cell_type": "code",
   "execution_count": 4,
   "id": "484e7767",
   "metadata": {},
   "outputs": [],
   "source": [
    "serving_function = project.get_function(\"serving-mlopspedia\")"
   ]
  },
  {
   "cell_type": "code",
   "execution_count": 6,
   "id": "29e510d2",
   "metadata": {},
   "outputs": [],
   "source": [
    "import gradio as gr\n",
    "import requests\n",
    "\n",
    "serving_function._get_state()\n",
    "serving_url = serving_function._resolve_invocation_url(\"\", False)\n",
    "\n",
    "def generate(text):\n",
    "    # call the serving function with the input text\n",
    "    resp = requests.post(serving_url, data=text)\n",
    "    return resp.json()[\"outputs\"]\n",
    "\n",
    "with gr.Blocks() as demo:\n",
    "    input_box = [gr.Textbox(label=\"MLOps Subject to ask about:\", placeholder=\"Please insert text\", value=\"What are training pipelines?\")]\n",
    "    output = [gr.Textbox(label=\"Generated Answer\")]\n",
    "    greet_btn = gr.Button(\"Submit\")\n",
    "    greet_btn.click(fn=generate, inputs=input_box, outputs=output)"
   ]
  },
  {
   "cell_type": "code",
   "execution_count": 8,
   "id": "8599145d",
   "metadata": {},
   "outputs": [
    {
     "name": "stdout",
     "output_type": "stream",
     "text": [
      "Running on local URL:  http://127.0.0.1:7861\n",
      "Running on public URL: https://7129e943151027812d.gradio.live\n",
      "\n",
      "This share link expires in 72 hours. For free permanent hosting and GPU upgrades (NEW!), check out Spaces: https://huggingface.co/spaces\n"
     ]
    },
    {
     "data": {
      "text/html": [
       "<div><iframe src=\"https://7129e943151027812d.gradio.live\" width=\"100%\" height=\"500\" allow=\"autoplay; camera; microphone; clipboard-read; clipboard-write;\" frameborder=\"0\" allowfullscreen></iframe></div>"
      ],
      "text/plain": [
       "<IPython.core.display.HTML object>"
      ]
     },
     "metadata": {},
     "output_type": "display_data"
    },
    {
     "data": {
      "text/plain": []
     },
     "execution_count": 8,
     "metadata": {},
     "output_type": "execute_result"
    }
   ],
   "source": [
    "demo.launch(share=True)"
   ]
  },
  {
   "cell_type": "markdown",
   "id": "b1295d88",
   "metadata": {},
   "source": [
    "**Done !**"
   ]
  }
 ],
 "metadata": {
  "kernelspec": {
   "display_name": "mlrun-extended",
   "language": "python",
   "name": "conda-env-mlrun-extended-py"
  },
  "language_info": {
   "codemirror_mode": {
    "name": "ipython",
    "version": 3
   },
   "file_extension": ".py",
   "mimetype": "text/x-python",
   "name": "python",
   "nbconvert_exporter": "python",
   "pygments_lexer": "ipython3",
   "version": "3.9.16"
  }
 },
 "nbformat": 4,
 "nbformat_minor": 5
}
